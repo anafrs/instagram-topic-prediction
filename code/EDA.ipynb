{
 "cells": [
  {
   "cell_type": "markdown",
   "metadata": {},
   "source": [
    "## Context\n",
    "The aim of this project is to understand how people talk about healthy living on Instagram. What is associated with the idea of healty living?\n",
    "I used a tool called Apify to scrape Instagram posts with the hashtags #healthyliving, #healthylifestyle and #wellnessjourney. \n",
    "\n",
    "In this jupyter notebook, the csv file containing all the posts will be cleaned and standardized.\n",
    "\n"
   ]
  },
  {
   "cell_type": "markdown",
   "metadata": {},
   "source": [
    "### Cleaning and exploring the data\n"
   ]
  },
  {
   "cell_type": "code",
   "execution_count": 4,
   "metadata": {},
   "outputs": [],
   "source": [
    "import pandas as pd\n",
    "import re"
   ]
  },
  {
   "cell_type": "code",
   "execution_count": 5,
   "metadata": {},
   "outputs": [],
   "source": [
    "# to view the whole posts\n",
    "pd.set_option('display.max_colwidth', -1)\n",
    "\n",
    "pd.set_option('display.max_rows', None)"
   ]
  },
  {
   "cell_type": "code",
   "execution_count": 6,
   "metadata": {},
   "outputs": [],
   "source": [
    "df1 = pd.read_csv(\"/Users/ana/ironhack_coding/projects/instagram-topic-prediction/datasets/healthyliving.csv\")\n",
    "df2 = pd.read_csv(\"/Users/ana/ironhack_coding/projects/instagram-topic-prediction/datasets/healthylifestyle.csv\")\n",
    "df3 = pd.read_csv(\"/Users/ana/ironhack_coding/projects/instagram-topic-prediction/datasets/wellnessjourney.csv\")\n"
   ]
  },
  {
   "cell_type": "code",
   "execution_count": 7,
   "metadata": {},
   "outputs": [
    {
     "data": {
      "text/plain": [
       "(5000, 8)"
      ]
     },
     "execution_count": 7,
     "metadata": {},
     "output_type": "execute_result"
    }
   ],
   "source": [
    "df1.shape"
   ]
  },
  {
   "cell_type": "code",
   "execution_count": 8,
   "metadata": {},
   "outputs": [
    {
     "data": {
      "text/plain": [
       "(8134, 8)"
      ]
     },
     "execution_count": 8,
     "metadata": {},
     "output_type": "execute_result"
    }
   ],
   "source": [
    "df2.shape"
   ]
  },
  {
   "cell_type": "code",
   "execution_count": 9,
   "metadata": {
    "scrolled": true
   },
   "outputs": [
    {
     "data": {
      "text/plain": [
       "(2798, 8)"
      ]
     },
     "execution_count": 9,
     "metadata": {},
     "output_type": "execute_result"
    }
   ],
   "source": [
    "df3.shape"
   ]
  },
  {
   "cell_type": "code",
   "execution_count": 10,
   "metadata": {},
   "outputs": [
    {
     "data": {
      "text/html": [
       "<div>\n",
       "<style scoped>\n",
       "    .dataframe tbody tr th:only-of-type {\n",
       "        vertical-align: middle;\n",
       "    }\n",
       "\n",
       "    .dataframe tbody tr th {\n",
       "        vertical-align: top;\n",
       "    }\n",
       "\n",
       "    .dataframe thead th {\n",
       "        text-align: right;\n",
       "    }\n",
       "</style>\n",
       "<table border=\"1\" class=\"dataframe\">\n",
       "  <thead>\n",
       "    <tr style=\"text-align: right;\">\n",
       "      <th></th>\n",
       "      <th>alt</th>\n",
       "      <th>firstComment</th>\n",
       "      <th>imageUrl</th>\n",
       "      <th>likesCount</th>\n",
       "      <th>locationName</th>\n",
       "      <th>ownerUsername</th>\n",
       "      <th>timestamp</th>\n",
       "      <th>url</th>\n",
       "    </tr>\n",
       "  </thead>\n",
       "  <tbody>\n",
       "    <tr>\n",
       "      <th>8129</th>\n",
       "      <td>Image may contain: one or more people and outdoor, possible text that says 'Leg pain from fibroids: how to get relief'</td>\n",
       "      <td>🔵 Leg Pain From Fibroids: How to Get Relief\\n⠀\\nThe leg pain that is associated with fibroids is typically due to subserosal (or large intramural) fibroids that are located in the back (posterior) aspect of the uterus. These hard and firm tumors compress the pelvic nerves which may include the sciatic nerve resulting in sciatica pain that is felt in the leg.\\n⠀\\nIf the symptoms correlate with the location and size of the fibroids, then treating the fibroids should relieve these symptoms. Uterine fibroid embolization (UFE) is an outstanding treatment for getting the relief of fibroid-related symptoms.\\n⠀\\n🔹If you suspect that you may have uterine fibroids and are not receiving all the answers from your doctor, ask Dr. John Lipman of the Atlanta Fibroid Center for a second opinion.  Call to make an appointment: 770-727-2631\\n⠀\\n#DontLoseUrU🍀</td>\n",
       "      <td>https://scontent-iad3-1.cdninstagram.com/v/t51.2885-15/e35/70254793_417794689096014_2091543836466137290_n.jpg?_nc_ht=scontent-iad3-1.cdninstagram.com&amp;_nc_cat=106&amp;_nc_ohc=JuOoyqhkbG4AX9Yqrdt&amp;oh=137d94c64ff999db6ea19546649e4e60&amp;oe=5EA3B751</td>\n",
       "      <td>12</td>\n",
       "      <td>NaN</td>\n",
       "      <td>NaN</td>\n",
       "      <td>2019-11-18T11:25:07.000Z</td>\n",
       "      <td>https://www.instagram.com/p/B5AUh_0hBGn</td>\n",
       "    </tr>\n",
       "    <tr>\n",
       "      <th>8130</th>\n",
       "      <td>Image may contain: one or more people, possible text that says 'What are the risks of UFE?'</td>\n",
       "      <td>🔵 From a risk profile, UFE is safer than the surgical options for fibroids treatment. The main risks of the UFE procedure are as follows:\\n⠀\\n➡️ 1. Menopause: Roughly 2% of women will go into menopause after UFE. The large majority of these women are over 45 years of age. A much smaller percentage of women enter menopause after UFE that are between 40 and 45 years of age. No one under 40 years of age, in our experience, has experienced menopause after UFE treatment.\\n⠀\\n➡️ 2. Fibroid slough: Roughly 5% of patients will slough fibroid tissue with menses temporarily after UFE. The material is from a fibroid that is near the lining and falls into the cavity and passed in pieces after the UFE. This is not concerning, except that it is important to tell patients about this so that they are not alarmed if they see this after UFE. On very rare occasions (~2-3 per 1,000 patients), the material is in the cavity, but a woman cannot pass it. Symptoms of sudden, sharp pain, fever, and a foul malodorous discharge alert the women of this occurrence and the Interventional Radiologist should be immediately notified. The patient is placed on antibiotic therapy and watched closely for ~24 hours. If she passes the material, no further steps are taken. If she cannot pass the material, an elective outpatient D&amp;C-like procedure with her gynecologist may be necessary to deliver this material. On rare occasions, surgical removal of the offending fibroid or a hysterectomy may be needed.\\n⠀\\n➡️ 3. Allergy to the contrast: Rarely, patients will be allergic to the x-ray contrast. If this is known from a prior exposure to contrast, the patient will be placed on a steroid regimen beginning the day before the procedure to block this reaction. In the very rare event that a reaction occurs, patients are given medicine to reverse and stop it.\\n⠀\\n➡️ 4. Undetected cancer: Rarely, cancer can be present in the uterus and is not detected by any test or imaging. (Approximately 1 in 2,000 cases).\\n⠀\\n⚫  If you would like a second opinion regarding your fibroids before deciding on surgery, make an appointment with Dr. John Lipman by calling the Atlanta Fibroid Center at 770-953-2600.\\n⠀\\n#DontLoseUrU🍀</td>\n",
       "      <td>https://scontent-iad3-1.cdninstagram.com/v/t51.2885-15/e35/75266918_2722661861131741_6907967573183167977_n.jpg?_nc_ht=scontent-iad3-1.cdninstagram.com&amp;_nc_cat=101&amp;_nc_ohc=ShPW2fg3FPEAX8Mk2PJ&amp;oh=8b46d3d40ed30b09276adab0698d639e&amp;oe=5E9E3B21</td>\n",
       "      <td>6</td>\n",
       "      <td>NaN</td>\n",
       "      <td>NaN</td>\n",
       "      <td>2019-11-17T11:58:03.000Z</td>\n",
       "      <td>https://www.instagram.com/p/B49zgZGB7LK</td>\n",
       "    </tr>\n",
       "    <tr>\n",
       "      <th>8131</th>\n",
       "      <td>Image may contain: one or more people and people standing</td>\n",
       "      <td>Today there are several ways to treat fibroids that allow a woman to keep her uterus.\\n⠀\\n🔸One of them is myomectomy, a surgery to remove a percentage of the fibroid tumors. However, after this procedure, there are typically a number of living fibroids still inside the uterus. These fibroids will ultimately grow, and therefore, within 5 years over half of the women treated with myomectomy will need another procedure (over 1/3 of them within 3 yrs.). Also, every woman that intends to undergo a myomectomy has to sign a waiver/release stating she’s aware that she may wake up without her uterus.\\n⠀\\n🔹The safer, less invasive, and more effective fibroid treatment option is uterine fibroid embolization (UFE). During this 30-40 minute nonsurgical procedure, small particles are introduced into the blood vessels that supply all of the fibroid tumors. Without a blood supply, all of the fibroids will start to die off.\\n⠀\\nThe death of all of the fibroids, causes them to soften and shrink, and as this occurs, the woman’s symptoms start to disappear. The death of all of the fibroids also means that for the vast majority of women that undergo UFE, it is the only procedure they will ever need (i.e. “one and done” unlike surgical myomectomy). This option is ideal for women that want to avoid the risks and long recovery of surgery and even a consideration for women who want to maintain their fertility.\\n⠀\\n🔵For more information on fibroids and UFE, make an appointment with Dr. John Lipman of Atlanta Fibroid Center by calling 770-727-2631\\n⠀\\n#DontLoseUrU🌸</td>\n",
       "      <td>https://scontent-iad3-1.cdninstagram.com/v/t51.2885-15/e35/72210513_216668502664832_6511304034180734320_n.jpg?_nc_ht=scontent-iad3-1.cdninstagram.com&amp;_nc_cat=108&amp;_nc_ohc=TwNJK6OnHBUAX8w2ilQ&amp;oh=4b012f47ca769083f44f58bf08ca5d43&amp;oe=5EA2E4E5</td>\n",
       "      <td>34</td>\n",
       "      <td>NaN</td>\n",
       "      <td>NaN</td>\n",
       "      <td>2019-11-16T11:52:19.000Z</td>\n",
       "      <td>https://www.instagram.com/p/B47ODenhCZh</td>\n",
       "    </tr>\n",
       "    <tr>\n",
       "      <th>8132</th>\n",
       "      <td>Image may contain: one or more people, eyeglasses, selfie and closeup</td>\n",
       "      <td>On the way to the gym right now. \\nMy leg with my prothese hurts a little bit but i hope it will be ok. 😆 Probably the price for going workout at the gym rather often. 😅\\nAnyway whats needs to be done needs to be done. No pain no gain right? 😆😎 Atleast im feeling like im getting in better shape and lost some weight. 😊\\n.\\n.\\n.\\n.\\n.\\n.\\n.\\n.\\n.\\n.\\n.\\n.\\n.\\n.\\n.\\n.\\n.\\n.\\n.\\n.\\n.\\n.\\n\\n#germanylife #germanbloggers \\n#ドイツ🇩🇪 #germangirl🇩🇪 #germaninsta  #germany_insta #happiness❤  #healthylifestylechange #stayhealthyandfit #healthylivingjourney #blogger_deutschland  #healthylifestyle💚 #healthylifestyleforever  #healthylifestyleeveryday #fit7eleven #workouttime💪 #cardioworkouts #fitnesscardio #alwaysgiveyourbest #saturdayworkouts #GACKT #ganbatte #kiaii #workoutwarrior #myhealthylifestyle #運動時間 #いい結果になる #鍛え  #トレーニングジム\\n@GACKT</td>\n",
       "      <td>https://scontent-iad3-1.cdninstagram.com/v/t51.2885-15/e35/75265159_149459046398873_4352510527348024711_n.jpg?_nc_ht=scontent-iad3-1.cdninstagram.com&amp;_nc_cat=105&amp;_nc_ohc=GNtPds9S4jQAX8SU1SY&amp;oh=b5b8898e044696f893dfcdea6546137c&amp;oe=5E94C2C9</td>\n",
       "      <td>58</td>\n",
       "      <td>NaN</td>\n",
       "      <td>NaN</td>\n",
       "      <td>2019-11-16T08:15:18.000Z</td>\n",
       "      <td>https://www.instagram.com/p/B461N8wCkhk</td>\n",
       "    </tr>\n",
       "    <tr>\n",
       "      <th>8133</th>\n",
       "      <td>NaN</td>\n",
       "      <td>Patient: \"Don't Lose Your U, Because Your Uterus IS You\"🌿\\n⠀\\n🔈Watch more patients' stories on our YouTube channel ➡️ \"Atlanta Fibroid Center\"\\n⠀\\n#DontLoseUrU</td>\n",
       "      <td>https://scontent-iad3-1.cdninstagram.com/v/t51.2885-15/e35/74917345_789145141539303_3911188560460631106_n.jpg?_nc_ht=scontent-iad3-1.cdninstagram.com&amp;_nc_cat=103&amp;_nc_ohc=Kba_NyFBTS4AX9sk_8h&amp;oh=484f49a05479861f0d08bbecbc0e8041&amp;oe=5E6C7E6B</td>\n",
       "      <td>7</td>\n",
       "      <td>NaN</td>\n",
       "      <td>NaN</td>\n",
       "      <td>2019-11-15T22:25:20.000Z</td>\n",
       "      <td>https://www.instagram.com/p/B45xqo0BPFJ</td>\n",
       "    </tr>\n",
       "  </tbody>\n",
       "</table>\n",
       "</div>"
      ],
      "text/plain": [
       "                                                                                                                         alt  \\\n",
       "8129  Image may contain: one or more people and outdoor, possible text that says 'Leg pain from fibroids: how to get relief'   \n",
       "8130  Image may contain: one or more people, possible text that says 'What are the risks of UFE?'                              \n",
       "8131  Image may contain: one or more people and people standing                                                                \n",
       "8132  Image may contain: one or more people, eyeglasses, selfie and closeup                                                    \n",
       "8133  NaN                                                                                                                      \n",
       "\n",
       "                                                                                                                                                                                                                                                                                                                                                                                                                                                                                                                                                                                                                                                                                                                                                                                                                                                                                                                                                                                                                                                                                                                                                                                                                                                                                                                                                                                                                                                                                                                                                                                                                                                                                                                                                                                                                                                                                                                                                                                                                                                                                                                                                                                                                                                                                 firstComment  \\\n",
       "8129  🔵 Leg Pain From Fibroids: How to Get Relief\\n⠀\\nThe leg pain that is associated with fibroids is typically due to subserosal (or large intramural) fibroids that are located in the back (posterior) aspect of the uterus. These hard and firm tumors compress the pelvic nerves which may include the sciatic nerve resulting in sciatica pain that is felt in the leg.\\n⠀\\nIf the symptoms correlate with the location and size of the fibroids, then treating the fibroids should relieve these symptoms. Uterine fibroid embolization (UFE) is an outstanding treatment for getting the relief of fibroid-related symptoms.\\n⠀\\n🔹If you suspect that you may have uterine fibroids and are not receiving all the answers from your doctor, ask Dr. John Lipman of the Atlanta Fibroid Center for a second opinion.  Call to make an appointment: 770-727-2631\\n⠀\\n#DontLoseUrU🍀                                                                                                                                                                                                                                                                                                                                                                                                                                                                                                                                                                                                                                                                                                                                                                                                                                                                                                                                                                                                                                                                                                                                                                                                                                                                                                                                                                                                       \n",
       "8130  🔵 From a risk profile, UFE is safer than the surgical options for fibroids treatment. The main risks of the UFE procedure are as follows:\\n⠀\\n➡️ 1. Menopause: Roughly 2% of women will go into menopause after UFE. The large majority of these women are over 45 years of age. A much smaller percentage of women enter menopause after UFE that are between 40 and 45 years of age. No one under 40 years of age, in our experience, has experienced menopause after UFE treatment.\\n⠀\\n➡️ 2. Fibroid slough: Roughly 5% of patients will slough fibroid tissue with menses temporarily after UFE. The material is from a fibroid that is near the lining and falls into the cavity and passed in pieces after the UFE. This is not concerning, except that it is important to tell patients about this so that they are not alarmed if they see this after UFE. On very rare occasions (~2-3 per 1,000 patients), the material is in the cavity, but a woman cannot pass it. Symptoms of sudden, sharp pain, fever, and a foul malodorous discharge alert the women of this occurrence and the Interventional Radiologist should be immediately notified. The patient is placed on antibiotic therapy and watched closely for ~24 hours. If she passes the material, no further steps are taken. If she cannot pass the material, an elective outpatient D&C-like procedure with her gynecologist may be necessary to deliver this material. On rare occasions, surgical removal of the offending fibroid or a hysterectomy may be needed.\\n⠀\\n➡️ 3. Allergy to the contrast: Rarely, patients will be allergic to the x-ray contrast. If this is known from a prior exposure to contrast, the patient will be placed on a steroid regimen beginning the day before the procedure to block this reaction. In the very rare event that a reaction occurs, patients are given medicine to reverse and stop it.\\n⠀\\n➡️ 4. Undetected cancer: Rarely, cancer can be present in the uterus and is not detected by any test or imaging. (Approximately 1 in 2,000 cases).\\n⠀\\n⚫  If you would like a second opinion regarding your fibroids before deciding on surgery, make an appointment with Dr. John Lipman by calling the Atlanta Fibroid Center at 770-953-2600.\\n⠀\\n#DontLoseUrU🍀   \n",
       "8131  Today there are several ways to treat fibroids that allow a woman to keep her uterus.\\n⠀\\n🔸One of them is myomectomy, a surgery to remove a percentage of the fibroid tumors. However, after this procedure, there are typically a number of living fibroids still inside the uterus. These fibroids will ultimately grow, and therefore, within 5 years over half of the women treated with myomectomy will need another procedure (over 1/3 of them within 3 yrs.). Also, every woman that intends to undergo a myomectomy has to sign a waiver/release stating she’s aware that she may wake up without her uterus.\\n⠀\\n🔹The safer, less invasive, and more effective fibroid treatment option is uterine fibroid embolization (UFE). During this 30-40 minute nonsurgical procedure, small particles are introduced into the blood vessels that supply all of the fibroid tumors. Without a blood supply, all of the fibroids will start to die off.\\n⠀\\nThe death of all of the fibroids, causes them to soften and shrink, and as this occurs, the woman’s symptoms start to disappear. The death of all of the fibroids also means that for the vast majority of women that undergo UFE, it is the only procedure they will ever need (i.e. “one and done” unlike surgical myomectomy). This option is ideal for women that want to avoid the risks and long recovery of surgery and even a consideration for women who want to maintain their fertility.\\n⠀\\n🔵For more information on fibroids and UFE, make an appointment with Dr. John Lipman of Atlanta Fibroid Center by calling 770-727-2631\\n⠀\\n#DontLoseUrU🌸                                                                                                                                                                                                                                                                                                                                                                                                                                                                                                                                                                                                                                                              \n",
       "8132  On the way to the gym right now. \\nMy leg with my prothese hurts a little bit but i hope it will be ok. 😆 Probably the price for going workout at the gym rather often. 😅\\nAnyway whats needs to be done needs to be done. No pain no gain right? 😆😎 Atleast im feeling like im getting in better shape and lost some weight. 😊\\n.\\n.\\n.\\n.\\n.\\n.\\n.\\n.\\n.\\n.\\n.\\n.\\n.\\n.\\n.\\n.\\n.\\n.\\n.\\n.\\n.\\n.\\n\\n#germanylife #germanbloggers \\n#ドイツ🇩🇪 #germangirl🇩🇪 #germaninsta  #germany_insta #happiness❤  #healthylifestylechange #stayhealthyandfit #healthylivingjourney #blogger_deutschland  #healthylifestyle💚 #healthylifestyleforever  #healthylifestyleeveryday #fit7eleven #workouttime💪 #cardioworkouts #fitnesscardio #alwaysgiveyourbest #saturdayworkouts #GACKT #ganbatte #kiaii #workoutwarrior #myhealthylifestyle #運動時間 #いい結果になる #鍛え  #トレーニングジム\\n@GACKT                                                                                                                                                                                                                                                                                                                                                                                                                                                                                                                                                                                                                                                                                                                                                                                                                                                                                                                                                                                                                                                                                                                                                                                                                                                                                                                                                                                                                         \n",
       "8133  Patient: \"Don't Lose Your U, Because Your Uterus IS You\"🌿\\n⠀\\n🔈Watch more patients' stories on our YouTube channel ➡️ \"Atlanta Fibroid Center\"\\n⠀\\n#DontLoseUrU                                                                                                                                                                                                                                                                                                                                                                                                                                                                                                                                                                                                                                                                                                                                                                                                                                                                                                                                                                                                                                                                                                                                                                                                                                                                                                                                                                                                                                                                                                                                                                                                                                                                                                                                                                                                                                                                                                                                                                                                                                                                                                                           \n",
       "\n",
       "                                                                                                                                                                                                                                            imageUrl  \\\n",
       "8129  https://scontent-iad3-1.cdninstagram.com/v/t51.2885-15/e35/70254793_417794689096014_2091543836466137290_n.jpg?_nc_ht=scontent-iad3-1.cdninstagram.com&_nc_cat=106&_nc_ohc=JuOoyqhkbG4AX9Yqrdt&oh=137d94c64ff999db6ea19546649e4e60&oe=5EA3B751    \n",
       "8130  https://scontent-iad3-1.cdninstagram.com/v/t51.2885-15/e35/75266918_2722661861131741_6907967573183167977_n.jpg?_nc_ht=scontent-iad3-1.cdninstagram.com&_nc_cat=101&_nc_ohc=ShPW2fg3FPEAX8Mk2PJ&oh=8b46d3d40ed30b09276adab0698d639e&oe=5E9E3B21   \n",
       "8131  https://scontent-iad3-1.cdninstagram.com/v/t51.2885-15/e35/72210513_216668502664832_6511304034180734320_n.jpg?_nc_ht=scontent-iad3-1.cdninstagram.com&_nc_cat=108&_nc_ohc=TwNJK6OnHBUAX8w2ilQ&oh=4b012f47ca769083f44f58bf08ca5d43&oe=5EA2E4E5    \n",
       "8132  https://scontent-iad3-1.cdninstagram.com/v/t51.2885-15/e35/75265159_149459046398873_4352510527348024711_n.jpg?_nc_ht=scontent-iad3-1.cdninstagram.com&_nc_cat=105&_nc_ohc=GNtPds9S4jQAX8SU1SY&oh=b5b8898e044696f893dfcdea6546137c&oe=5E94C2C9    \n",
       "8133  https://scontent-iad3-1.cdninstagram.com/v/t51.2885-15/e35/74917345_789145141539303_3911188560460631106_n.jpg?_nc_ht=scontent-iad3-1.cdninstagram.com&_nc_cat=103&_nc_ohc=Kba_NyFBTS4AX9sk_8h&oh=484f49a05479861f0d08bbecbc0e8041&oe=5E6C7E6B    \n",
       "\n",
       "      likesCount  locationName  ownerUsername                 timestamp  \\\n",
       "8129  12         NaN           NaN             2019-11-18T11:25:07.000Z   \n",
       "8130  6          NaN           NaN             2019-11-17T11:58:03.000Z   \n",
       "8131  34         NaN           NaN             2019-11-16T11:52:19.000Z   \n",
       "8132  58         NaN           NaN             2019-11-16T08:15:18.000Z   \n",
       "8133  7          NaN           NaN             2019-11-15T22:25:20.000Z   \n",
       "\n",
       "                                          url  \n",
       "8129  https://www.instagram.com/p/B5AUh_0hBGn  \n",
       "8130  https://www.instagram.com/p/B49zgZGB7LK  \n",
       "8131  https://www.instagram.com/p/B47ODenhCZh  \n",
       "8132  https://www.instagram.com/p/B461N8wCkhk  \n",
       "8133  https://www.instagram.com/p/B45xqo0BPFJ  "
      ]
     },
     "execution_count": 10,
     "metadata": {},
     "output_type": "execute_result"
    }
   ],
   "source": [
    "df2.tail()"
   ]
  },
  {
   "cell_type": "markdown",
   "metadata": {},
   "source": [
    "#### Checking Nulll Values"
   ]
  },
  {
   "cell_type": "code",
   "execution_count": 11,
   "metadata": {},
   "outputs": [
    {
     "data": {
      "text/plain": [
       "alt              316 \n",
       "firstComment     18  \n",
       "imageUrl         0   \n",
       "likesCount       0   \n",
       "locationName     5000\n",
       "ownerUsername    5000\n",
       "timestamp        0   \n",
       "url              0   \n",
       "dtype: int64"
      ]
     },
     "execution_count": 11,
     "metadata": {},
     "output_type": "execute_result"
    }
   ],
   "source": [
    "\n",
    "df1.isnull().sum()"
   ]
  },
  {
   "cell_type": "code",
   "execution_count": 12,
   "metadata": {
    "scrolled": true
   },
   "outputs": [
    {
     "data": {
      "text/plain": [
       "alt              780 \n",
       "firstComment     84  \n",
       "imageUrl         0   \n",
       "likesCount       0   \n",
       "locationName     8134\n",
       "ownerUsername    8134\n",
       "timestamp        0   \n",
       "url              0   \n",
       "dtype: int64"
      ]
     },
     "execution_count": 12,
     "metadata": {},
     "output_type": "execute_result"
    }
   ],
   "source": [
    "df2.isnull().sum()"
   ]
  },
  {
   "cell_type": "code",
   "execution_count": 13,
   "metadata": {},
   "outputs": [
    {
     "data": {
      "text/plain": [
       "alt              158 \n",
       "firstComment     8   \n",
       "imageUrl         0   \n",
       "likesCount       0   \n",
       "locationName     2798\n",
       "ownerUsername    2798\n",
       "timestamp        0   \n",
       "url              0   \n",
       "dtype: int64"
      ]
     },
     "execution_count": 13,
     "metadata": {},
     "output_type": "execute_result"
    }
   ],
   "source": [
    "df3.isnull().sum()"
   ]
  },
  {
   "cell_type": "markdown",
   "metadata": {},
   "source": [
    "#### Dropping columns"
   ]
  },
  {
   "cell_type": "code",
   "execution_count": 14,
   "metadata": {},
   "outputs": [],
   "source": [
    "df1.drop(columns = [\"alt\",\"locationName\", \"ownerUsername\",\"imageUrl\", \"url\"],axis=1, inplace = True)\n",
    "df2.drop(columns = [\"alt\",\"locationName\", \"ownerUsername\", \"imageUrl\", \"url\"],axis=1, inplace = True)\n",
    "df3.drop(columns = [\"alt\",\"locationName\", \"ownerUsername\", \"imageUrl\", \"url\"],axis=1, inplace = True)"
   ]
  },
  {
   "cell_type": "markdown",
   "metadata": {},
   "source": [
    "#### Concatenating the datasets"
   ]
  },
  {
   "cell_type": "code",
   "execution_count": 15,
   "metadata": {},
   "outputs": [],
   "source": [
    "#concatenating the datasets\n",
    "instagram = pd.concat([df1,df2, df3],axis = 0)"
   ]
  },
  {
   "cell_type": "code",
   "execution_count": 16,
   "metadata": {},
   "outputs": [
    {
     "data": {
      "text/plain": [
       "firstComment    object\n",
       "likesCount      int64 \n",
       "timestamp       object\n",
       "dtype: object"
      ]
     },
     "execution_count": 16,
     "metadata": {},
     "output_type": "execute_result"
    }
   ],
   "source": [
    "# types\n",
    "instagram.dtypes"
   ]
  },
  {
   "cell_type": "code",
   "execution_count": 17,
   "metadata": {},
   "outputs": [
    {
     "data": {
      "text/plain": [
       "firstComment    110\n",
       "likesCount      0  \n",
       "timestamp       0  \n",
       "dtype: int64"
      ]
     },
     "execution_count": 17,
     "metadata": {},
     "output_type": "execute_result"
    }
   ],
   "source": [
    "instagram.isnull().sum()"
   ]
  },
  {
   "cell_type": "code",
   "execution_count": 18,
   "metadata": {},
   "outputs": [
    {
     "data": {
      "text/plain": [
       "(15932, 3)"
      ]
     },
     "execution_count": 18,
     "metadata": {},
     "output_type": "execute_result"
    }
   ],
   "source": [
    "instagram.shape"
   ]
  },
  {
   "cell_type": "markdown",
   "metadata": {},
   "source": [
    "#### Removing NaN rows"
   ]
  },
  {
   "cell_type": "code",
   "execution_count": 19,
   "metadata": {},
   "outputs": [],
   "source": [
    "instagram.dropna(subset=[\"firstComment\"], inplace = True)"
   ]
  },
  {
   "cell_type": "code",
   "execution_count": 20,
   "metadata": {
    "scrolled": false
   },
   "outputs": [
    {
     "data": {
      "text/plain": [
       "firstComment    0\n",
       "likesCount      0\n",
       "timestamp       0\n",
       "dtype: int64"
      ]
     },
     "execution_count": 20,
     "metadata": {},
     "output_type": "execute_result"
    }
   ],
   "source": [
    "instagram.isnull().sum()"
   ]
  },
  {
   "cell_type": "code",
   "execution_count": 21,
   "metadata": {},
   "outputs": [
    {
     "data": {
      "text/plain": [
       "(15822, 3)"
      ]
     },
     "execution_count": 21,
     "metadata": {},
     "output_type": "execute_result"
    }
   ],
   "source": [
    "instagram.shape"
   ]
  },
  {
   "cell_type": "markdown",
   "metadata": {},
   "source": [
    "#### Creating a column for hashtags"
   ]
  },
  {
   "cell_type": "code",
   "execution_count": 22,
   "metadata": {},
   "outputs": [],
   "source": [
    "def get_hashtag(s):\n",
    "    s = s.replace(\" \", \"\")\n",
    "    return re.findall(r\"#([a-z]+)\", s, flags=re.IGNORECASE)"
   ]
  },
  {
   "cell_type": "code",
   "execution_count": 23,
   "metadata": {},
   "outputs": [],
   "source": [
    "instagram[\"hashtags\"] = instagram.firstComment.apply(str).apply(lambda x: get_hashtag(x))"
   ]
  },
  {
   "cell_type": "markdown",
   "metadata": {},
   "source": [
    "#### Removing hashtags from the body of the post's rows"
   ]
  },
  {
   "cell_type": "code",
   "execution_count": 24,
   "metadata": {},
   "outputs": [],
   "source": [
    "instagram[\"post\"] = instagram.firstComment.apply(str).str.lower().apply(lambda x: re.sub(r\"#([a-z]+)\",\"\",x))\n",
    "                                                 \n",
    "                                                 "
   ]
  },
  {
   "cell_type": "markdown",
   "metadata": {},
   "source": [
    "#### Removing duplicate posts"
   ]
  },
  {
   "cell_type": "code",
   "execution_count": 25,
   "metadata": {},
   "outputs": [],
   "source": [
    "instagram.drop_duplicates(subset=\"post\", inplace= True)"
   ]
  },
  {
   "cell_type": "code",
   "execution_count": 26,
   "metadata": {},
   "outputs": [
    {
     "data": {
      "text/plain": [
       "(13345, 5)"
      ]
     },
     "execution_count": 26,
     "metadata": {},
     "output_type": "execute_result"
    }
   ],
   "source": [
    "instagram.shape"
   ]
  },
  {
   "cell_type": "markdown",
   "metadata": {},
   "source": [
    "#### Removing any non-character (e.g. emojis)"
   ]
  },
  {
   "cell_type": "code",
   "execution_count": 27,
   "metadata": {
    "scrolled": true
   },
   "outputs": [],
   "source": [
    "instagram[\"post\"] = instagram[\"post\"].apply(str).apply(lambda x: re.sub(r'[^A-Za-z ]', \"\", x))"
   ]
  },
  {
   "cell_type": "code",
   "execution_count": 28,
   "metadata": {},
   "outputs": [
    {
     "data": {
      "text/plain": [
       "0     the best offense is a good defense so heres some healthy tips on how to boast your immunity as work through this covid scaredont be scared just take care                                                                                                                                                                                                                                                                                                                                                                                                                                                                                                                                                                                                                                                                                                                                                                                                                                                                                                                                                                                                                                                                                             \n",
       "1     nature reflects back to us our own imbalance when the health of the earth and ecosystems are compromised our own health is also compromised we are a part of nature and her sickness becomes our sickness  her health our health  art mimbirose                                                                                                                                                                                                                                                                                                                                                                                                                                                                                                                                                                                                                                                                                                                                                                                                                                                                                                                                                                                                       \n",
       "2     concerning the current outbreak of covid coronavirus which has now been declared as a pandemic we must take precautions and safety measures to avoid its spread even a simple handshake can cause the transfer of harmful diseasecausing bacteriaa safe way to greet others is through namaste a customary and respectful indian greeting which is also a part of atmantans culture                                                                                                                                                                                                                                                                                                                                                                                                                                                                                                                                                                                                                                                                                                                                                                                                                                                                   \n",
       "3     lunch out today with my daughter jacket potato with tuna and cheese hea and speedy salad                                                                                                                                                                                                                                                                                                                                                                                                                                                                                                                                                                                                                                                                                                                                                                                                                                                                                                                                                                                                                                                                                                                                                              \n",
       "4     whenever you are faced with fear you always have a choicefear is something we all have faced and will face it again its inevitable and something needs to changedont let fear win and over power you believe that you are strong and capable forget everything and run or face everything and rise the choice is yours                                                                                                                                                                                                                                                                                                                                                                                                                                                                                                                                                                                                                                                                                                                                                                                                                                                                                                                                \n",
       "5     who doesnt love cucumber its high in vitamin c vitamin k and contains a lot of antioxidants that block oxidation meaning it protects your skin from free radicals in the air and keeps your skin looking youthful these little beauties also reduce the risk of chronic disease reduces blood sugar and promotes hydration our greens  has green apple  pineapple  kale and cucumber  all the things you need to supercharge your day                    vision                                                                                                                                                                                                                                                                                                                                                                                                                                                                                                                                                                                                                                                                                                                                                                                       \n",
       "6     gift time swipe im always on the go and revivesuperfoods has saved me from having to spend time making a healthy breakfast every morning readytoblend smoothies crafted with farmfrozen premium ingredients delivered right to your door all you have to do is add liquid and blend ive tried their flavours and love them revivesuperfoods was awesome enough to partner with me in hosting a  lucky winner will be randomly selected to win a box of  of their best selling smoothies or overnight oatsheres how to enter follow revivesuperfoods  perfectlyredefined  tag   or  friends who youll be sharing your prize with let me know in the comments below what your fav smoothie ingredient is use my code redef for  off and get yours giveaway is open to us and canadian residents only winner will be chosen  days from now goodluck                             l                                                                                                                                                                                                                                                                                                                                                                        \n",
       "7     scared of coronavirus please dont worry take all the safety measures but remember one day everyone has to die and that one day can be anyday for you and everyone else on this planet dont take your today for granted and try not to leave any regrets to recall on the deathbed spend everyday as a gift  drop a  if you agree share to spread awareness save post for latercheck out happysoulplus to find more soulful thoughts                                                                                                                                                                                                                                                                                                                                                                                                                                                                                                                                                                                                                                                                                                                                                                                                                   \n",
       "8     who doesnt love manipedis not only does it help us feel pampered but it also makes us feel more confident however we should also be aware about the risks it may cause to our overall health such as   infection  contact dermatitis  plantar warts  cancer and aging  these are complications which are possibly caused by  tools that are not disinfected or sanitized  general uncleanliness of the salon as a whole  poor hygiene practices  improper cleaning of foot baths  you nail technician may be too aggressive  your technician may be careless and inattentiveread more about this site link in biohttpswwwlifemaghealthcompotentialdangersofhavingmanipedisinnailsalons                                                                                                                                                                                                                                                                                                                                                                                                                                                                                                                                                                \n",
       "9     yall know that i am not a morning person give me coffee all day everyday being a working mom its a struggle to stay awake sometimes but i recently found this uplift energizing body cream from theseaweedbathco available at wholefoods and let me tell you it is amazingnot only does it have vitamin c to help replenish and protect your skin but it also has matcha ginseng and coffee bean extract to energize and invigorate your skin anything with coffee in it is a win in my book not gonna lie the grapefruit and orange scent is good tooso ill be pouring myself a second and maybe third cup of coffee today and using my new body cream to help me stay energized what are some unique ways youve found that help you stay energized                                                                                                                                                                                                                                                                                                                                                                                                                                                                                                  \n",
       "10    so excited that my gemstones arrived from ylapothecary  cant wait to make rollers for some special people  these little gemstones make any essential oil roller look and feel amazing they add just the right touch to any oil blend now i just need to figure out what the special blend will be  what are your favorite essential oil blends im taking suggestions                                                                                                                                                                                                                                                                                                                                                                                                                                                                                                                                                                                                                                                                                                                                                                                                                                                                                  \n",
       "11    needing to destress before tee offluckily for all the tpc goers we are just a golf cart ride away come unwind with us this week at a discounted rate dropin vs  running today through sunday cant wait to see you in class                                                                                                                                                                                                                                                                                                                                                                                                                                                                                                                                                                                                                                                                                                                                                                                                                                                                                                                                                                                                                            \n",
       "12    i have chosen to be optimistic and to believe in myself it is making this lifestyle change so much easier weight loss is not the goal it is one of the benefits             goals                                                                                                                                                                                                                                                                                                                                                                                                                                                                                                                                                                                                                                                                                                                                                                                                                                                                                                                                                                                                                                                                     \n",
       "13    with a happy client                                                                                                                                                                                                                                                                                                                                                                                                                                                                                                                                                                                                                                                                                                                                                                                                                                                                                                                                                                                                                                                                                                                                                                                                                                   \n",
       "14    a life without purpose is like a ship without a rudder goals are dreams that are written downthe purpose of a goal is to focus your attention your mind will reach toward achievement only when it has a goalthere is no achievement without goalsestablish a goal worth working for your goal will keep you going in tough timesalways have something ahead of you continuously visualize your next step keep moving after you achieve your goal and set another momentum is maintained by always having something to look forward to constantly give yourself something to work fordo what you can do well and do well whatever you can do and youll achieve any goal that you set for yourselfyou can plant your dream with a goal                                                                                                                                                                                                                                                                                                                                                                                                                                                                                                                 \n",
       "15    i love a good solid unfollowif you know me you know i take long breaks away from social media  i miss the days when it didnt exist  ever since the beginningin the days of myspace i realized how social media is rapidly changing the way we live and see things  we spend hours staring at our phones daily without questioning how its affecting our mental health  a few years ago i went off social media for a month and wrote in a journal each day about how i felt without it i highly recommend this experience  see if you can do it dont be afraid of missing out on memes and the daily lives of people you dont even know  take some time to assess how scrolling is affecting your thought process  is it healthy mama j rasekhiartstemple                                                                                                                                                                                                                                                                                                                                                                                                                                                                                             \n",
       "16    if i could choose to be a food i would choose these gluten free birchbenders topped with cinnamon and maple syrup every single time  ate these babies yesterday but still wishing i had a giant plate of them right in my face honestly sometimes waffles with syrup is just the move hold all the toppings  anyone else with me let me know below                                                                                                                                                                                                                                                                                                                                                                                                                                                                                                                                                                                                                                                                                                                                                                                                                                                                                                    \n",
       "17    hey how many times are you washing your hands at the gym gyms are gross places with lots of people and lots of fluids stay healthy stay safe stay prepared  but in all seriousness extreme measures are being taken for a reason to protect the health of as many people as possible no need to panic but there is a serious need to be prepared and stay alert take care of yourself holistically and look out for those in your life or around you that may be at higher risk for contracting covid as global citizens be cognizant of the jokes were making when talking about this life or death issue in many cases be a good human look out for those around be mindful about your health                                                                                                                                                                                                                                                                                                                                                                                                                                                                                                                                                       \n",
       "18    breakfast for sp healthyeatonthego apple cinnamon bar im on the hunt for mini bottles of water today not for coronavirus panic but for a pto event next week i went to  stores yesterday and they were all out i finally found some on the shoprite from home website but they would not sell me the  cases website limit per person so i cancelled the order i wasnt paying the  convenience fee for  worth of water for only buying  cases                                                                                                                                                                                                                                                                                                                                                                                                                                                                                                                                                                                                                                                                                                                                                                                                          \n",
       "19    chunky monkey protein shake     daystohealthyliving                                                                                                                                                                                                                                                                                                                                                                                                                                                                                                                                                                                                                                                                                                                                                                                                                                                                                                                                                                                                                                                                                                                                                                                                   \n",
       "20    i will face today with a big smile on my face times are difficult around the world but as individuals we can make every minute count for ourselves and others big smile and hug to all live now and worry about tomorrow tomorrow              vibes                                                                                                                                                                                                                                                                                                                                                                                                                                                                                                                                                                                                                                                                                                                                                                                                                                                                                                                                                                                                  \n",
       "21    red juice swipe for ingridients                                                                                                                                                                                                                                                                                                                                                                                                                                                                                                                                                                                                                                                                                                                                                                                                                                                                                                                                                                                                                                                                                                                                                                                                                       \n",
       "22    dont count calories count nutrients                                                                                                                                                                                                                                                                                                                                                                                                                                                                                                                                                                                                                                                                                                                                                                                                                                                                                                                                                                                                                                                                                                                                                                                                                   \n",
       "23    how would it feel to have a life where you wake up every day with excitement to look in the mirror with pride to feel energised and ready to take on every challenge thrown at you what would it take change is a natural part of our day to day life if we dont embrace it nothing will change start small one habit a day will work towards a lifetime goal whether it be to loose weight solve health issues or just to be happy  make the change now your future self will thank you for it   daystohealthyliving                   daystohealthyliving                                                                                                                                                                                                                                                                                                                                                                                                                                                                                                                                                                                                                                                                                           \n",
       "24     congratulations to my friend jan on maintaining her health goals i love hearing stories of how people have improved their health and maintained it  here is her story i started my nutrition system in may  and have never looked back  this is what feeling good in the long term is all about and they make it so easy and enjoyable too i cant even imagine how dull my life would be without ionix e shots regular cleansing and superfood nutrition ill be forever grateful to my beautiful friend who helped me get startedif today is the day to take your health to the next level drop a comment below                                                                                                                                                                                                                                                                                                                                                                                                                                                                                                                                                                                                                                      \n",
       "25    top  ways to stay fitwant  off your order sign up for our newsletter                                                                                                                                                                                                                                                                                                                                                                                                                                                                                                                                                                                                                                                                                                                                                                                                                                                                                                                                                                                                                                                                                                                                                                                  \n",
       "26    why cant i go when im travelling this past weekend i was on an amazing business retreat with  other boss ladies building their own businessesall  of us spent  days hanging out in an apartment in lisbon masterminding and discovering the city most of us had never met in person beforemy biggest stress before going what would the bathroom situation look like travelling can really wreak havoc on your digestion  the physical aspect of flying or sitting for a long period of time to get to your destination eating different foods sleep disturbancesand having to poop in a new place nothing can make us feel more uncomfortable and stressed than feeling constipated and having bathroom anxiety while travellinghealing your gut is not just to feel better during your daytoday its also about learning strategies to help navigate those irregular moments and changes in your routinewant my top  tips for staying regular while travelling dm me  and ill let you know                                                                                                                                                                                                                                                           \n",
       "27    ive committed the unforgivable sin can you guess what that iscomment below what you think it is                                                                                                                                                                                                                                                                                                                                                                                                                                                                                                                                                                                                                                                                                                                                                                                                                                                                                                                                                                                                                                                                                                                                                       \n",
       "28    you eat so many pancakes damn right i do  because they are plant based protein packed simple  easy great for me and my son its our fave breaky contains mushroom powder pea protein chickpea powder organic sugar cane broccoli  alfalfa sprouts radish sprouts  organic quinoa  pumpkin powder spirulina powder vitamin byou get the gist of it  packed with the good sht only  ingredients and honestly friken delish i absolutely love knowing max is getting all this in his body and we can spice it all up with extra nutrients adding all our fun toppings this one even had our vegan plant based chocolate topping  so yes you see me eat alot of pancakes but its because i can  guess what we are having tomorrow morning again yep you guessed it                                                                                                                                                                                                                                                                                                                                                                                                                                                                                         \n",
       "29     serious alert  protect yourself and give your immune system the boost it need along with fueling the body with nutrabrust chagatip your caps to the king of herbs pure siberia chaga extract is an allnatural immuneboosting superfood known for its high content of melanin and superoxide dismutase sod which functions as a powerful antioxidant chaga contains numerous vitamins and minerals it is also one of the densest sources of vitamin b which supports adrenal glands and digestive organsbenefits the nervous system and the immune systemhelps prevent damage to cells and tissuesantiaging properties nutraburst fuel your bodynutraburst is a citrusflavored liquid multivitamin enhanced with coenzyme q coq a nutrient similar to vitamins that cells use to produce the energy it needs for cell growth and maintenance designed to detox your system and supply essential elements that help strengthen your body also functions as an antioxidant protects the body from damage while producing energy for cell growthexceeds the recommended daily consumption of vitamins in a single tablespoonnineteen amino acids to ensure the body is performing to the best of its abilityclick the link to protect yourself ellendetox\n",
       "Name: post, dtype: object"
      ]
     },
     "execution_count": 28,
     "metadata": {},
     "output_type": "execute_result"
    }
   ],
   "source": [
    "instagram[\"post\"].head(30)"
   ]
  },
  {
   "cell_type": "markdown",
   "metadata": {},
   "source": [
    "#### List of hashtags"
   ]
  },
  {
   "cell_type": "code",
   "execution_count": 29,
   "metadata": {},
   "outputs": [],
   "source": [
    "hashtags = instagram[\"hashtags\"].explode()"
   ]
  },
  {
   "cell_type": "code",
   "execution_count": 30,
   "metadata": {},
   "outputs": [
    {
     "data": {
      "text/plain": [
       "['healthylifestyle',\n",
       " 'healthyliving',\n",
       " 'wellnessjourney',\n",
       " 'healthyfood',\n",
       " 'fitness',\n",
       " 'healthy',\n",
       " 'healthyeating',\n",
       " 'health',\n",
       " 'wellness',\n",
       " 'weightloss',\n",
       " 'arbonne',\n",
       " 'nutrition',\n",
       " 'vegan',\n",
       " 'weightlossjourney',\n",
       " 'healthylifestylechange',\n",
       " 'fitnessmotivation',\n",
       " 'healthylivingrevolution',\n",
       " 'healthylifestylecoach',\n",
       " 'healthylifestyles',\n",
       " 'healthylifestylechanges',\n",
       " 'healthandwellness',\n",
       " 'motivation',\n",
       " 'healthylifestylechoices',\n",
       " 'healthylifestylejourney',\n",
       " 'healthylifestylemovement']"
      ]
     },
     "execution_count": 30,
     "metadata": {},
     "output_type": "execute_result"
    }
   ],
   "source": [
    "hashtags1 = hashtags.value_counts().head(25).index.tolist()\n",
    "hashtags1"
   ]
  },
  {
   "cell_type": "markdown",
   "metadata": {},
   "source": [
    "# Visualisation"
   ]
  },
  {
   "cell_type": "code",
   "execution_count": 31,
   "metadata": {},
   "outputs": [],
   "source": [
    "import numpy as np\n",
    "from os import path\n",
    "from PIL import Image\n",
    "from wordcloud import WordCloud, STOPWORDS, ImageColorGenerator\n",
    "\n",
    "import matplotlib.pyplot as plt\n",
    "%matplotlib inline"
   ]
  },
  {
   "cell_type": "code",
   "execution_count": 32,
   "metadata": {},
   "outputs": [],
   "source": [
    "text = ' '.join(hashtags1)"
   ]
  },
  {
   "cell_type": "code",
   "execution_count": 33,
   "metadata": {},
   "outputs": [
    {
     "data": {
      "text/plain": [
       "'healthylifestyle healthyliving wellnessjourney healthyfood fitness healthy healthyeating health wellness weightloss arbonne nutrition vegan weightlossjourney healthylifestylechange fitnessmotivation healthylivingrevolution healthylifestylecoach healthylifestyles healthylifestylechanges healthandwellness motivation healthylifestylechoices healthylifestylejourney healthylifestylemovement'"
      ]
     },
     "execution_count": 33,
     "metadata": {},
     "output_type": "execute_result"
    }
   ],
   "source": [
    "text"
   ]
  },
  {
   "cell_type": "code",
   "execution_count": 34,
   "metadata": {
    "scrolled": true
   },
   "outputs": [
    {
     "data": {
      "image/png": "[encoded data removed]",
      "text/plain": [
       "<Figure size 432x288 with 1 Axes>"
      ]
     },
     "metadata": {
      "needs_background": "light"
     },
     "output_type": "display_data"
    }
   ],
   "source": [
    "\n",
    "wordcloud = WordCloud(max_font_size=50, max_words=100, background_color=\"white\").generate(text)\n",
    "\n",
    "plt.imshow(wordcloud, interpolation='bilinear')\n",
    "plt.axis(\"off\")\n",
    "plt.show()"
   ]
  },
  {
   "cell_type": "markdown",
   "metadata": {},
   "source": [
    "### Cleaned data to csv"
   ]
  },
  {
   "cell_type": "code",
   "execution_count": 40,
   "metadata": {},
   "outputs": [],
   "source": [
    "instagram.to_csv(\"/Users/ana/ironhack_coding/projects/instagram-topic-prediction/datasets/instagram.csv\")\n"
   ]
  }
 ],
 "metadata": {
  "kernelspec": {
   "display_name": "Python 3",
   "language": "python",
   "name": "python3"
  },
  "language_info": {
   "codemirror_mode": {
    "name": "ipython",
    "version": 3
   },
   "file_extension": ".py",
   "mimetype": "text/x-python",
   "name": "python",
   "nbconvert_exporter": "python",
   "pygments_lexer": "ipython3",
   "version": "3.7.2"
  }
 },
 "nbformat": 4,
 "nbformat_minor": 2
}
